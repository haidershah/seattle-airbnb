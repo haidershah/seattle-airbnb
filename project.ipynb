{
 "cells": [
  {
   "cell_type": "markdown",
   "metadata": {},
   "source": [
    "# Analyze Seattle Airbnb Data"
   ]
  },
  {
   "cell_type": "markdown",
   "metadata": {},
   "source": [
    "Analyzing Seattle Airbnb data by answering three questions:\n",
    "<br>\n",
    "1. Are hosts who have a high review score rating charging renters more?\n",
    "2. What are the pricing trends in Seattle?\n",
    "3. What are the 3 most expensive and least expensive neighbourhoods in Seattle for renting?"
   ]
  },
  {
   "cell_type": "code",
   "execution_count": 884,
   "metadata": {},
   "outputs": [],
   "source": [
    "import pandas as pd\n",
    "import numpy as np\n",
    "import matplotlib.pyplot as plt\n",
    "\n",
    "plt.rcdefaults()\n",
    "\n",
    "listings_df = pd.read_csv('seattle/listings.csv')"
   ]
  },
  {
   "cell_type": "markdown",
   "metadata": {},
   "source": [
    "### Question: Are hosts who have a high review score rating charging renters more?"
   ]
  },
  {
   "cell_type": "markdown",
   "metadata": {},
   "source": [
    "Figure out if Hosts, with higher review rating score, are charging renters a higher price.\n",
    "<br><br>\n",
    "Since we need to do a price comparison between listings, we need a way to calculate a price value irrespective of the number of bedrooms, bathrooms etc. One way to do that would be to calculate price per accommodation. The data offers information on price and accommodation, therefore we'll create a new columns 'price_per_accommodation' and fill it with price/accommodation.\n",
    "<br><br>\n",
    "The 'price' column in this dataset needs to be formatted first by removing the '$' sign, commas, and converting it into a float. I'll create a new column 'price_val' which does this for us."
   ]
  },
  {
   "cell_type": "code",
   "execution_count": 885,
   "metadata": {},
   "outputs": [],
   "source": [
    "# Format 'price' of a DataFrame and create a new column 'price_val'\n",
    "def format_price(df):\n",
    "    \n",
    "    # remove $ sign\n",
    "    df['price_val'] = df['price'].str[1:]\n",
    "\n",
    "    # remove commas\n",
    "    df['price_val'] = df['price_val'].str.replace(',', '')\n",
    "\n",
    "    # convert to numeric\n",
    "    df['price_val'] = pd.to_numeric(df['price_val'])"
   ]
  },
  {
   "cell_type": "code",
   "execution_count": 886,
   "metadata": {},
   "outputs": [],
   "source": [
    "format_price(listings_df)"
   ]
  },
  {
   "cell_type": "code",
   "execution_count": 887,
   "metadata": {},
   "outputs": [],
   "source": [
    "# Calculate price per accomnodation for each listing\n",
    "listings_df['price_per_accommodation'] = listings_df['price_val'] / listings_df['accommodates']"
   ]
  },
  {
   "cell_type": "markdown",
   "metadata": {},
   "source": [
    "Now let's look at the 'review_scores_value' data."
   ]
  },
  {
   "cell_type": "code",
   "execution_count": 888,
   "metadata": {},
   "outputs": [
    {
     "data": {
      "text/plain": [
       "10.0    1775\n",
       "9.0     1137\n",
       "8.0      190\n",
       "7.0       38\n",
       "6.0       16\n",
       "4.0        4\n",
       "5.0        1\n",
       "2.0        1\n",
       "Name: review_scores_value, dtype: int64"
      ]
     },
     "execution_count": 888,
     "metadata": {},
     "output_type": "execute_result"
    }
   ],
   "source": [
    "listings_df['review_scores_value'].value_counts()"
   ]
  },
  {
   "cell_type": "markdown",
   "metadata": {},
   "source": [
    "Looks like reviews are given on a 1-10 scale and most of the Hosts have received review scores of 7 or higher. We'll drop reviews below 7 since we don't have enough data for them. Our analysis will be for the following review scores: 7, 8, 9, 10."
   ]
  },
  {
   "cell_type": "code",
   "execution_count": 889,
   "metadata": {},
   "outputs": [
    {
     "data": {
      "image/png": "[encoded data removed]",
      "text/plain": [
       "<Figure size 640x480 with 1 Axes>"
      ]
     },
     "metadata": {},
     "output_type": "display_data"
    }
   ],
   "source": [
    "def get_prices_for_review_score(df):\n",
    "    prices = np.zeros(4)\n",
    "    \n",
    "    for i in range(4):\n",
    "        review_score = 7 + i\n",
    "        prices[i] = df[(df['review_scores_value'] == review_score)]['price_per_accommodation'].mean()\n",
    "\n",
    "    return prices\n",
    "\n",
    "prices = get_prices_for_review_score(listings_df)\n",
    "reviews = ('7', '8', '9', '10')\n",
    "reviews_pos = np.arange(len(reviews))\n",
    "\n",
    "plt.plot(reviews, prices)\n",
    "plt.xticks(reviews_pos, reviews)\n",
    "plt.xlabel('Review scores value')\n",
    "plt.ylabel('Price per accommodation')\n",
    "plt.show()"
   ]
  },
  {
   "cell_type": "markdown",
   "metadata": {},
   "source": [
    "There's an upward trend in pricing as review score values increase. Hosts who've received higher review scores are indeed charging renters more."
   ]
  },
  {
   "cell_type": "markdown",
   "metadata": {},
   "source": [
    "### Question: What are the pricing trends in Seattle?"
   ]
  },
  {
   "cell_type": "markdown",
   "metadata": {},
   "source": [
    "Figure out the pricing trends for Airbnb rentals in Seattle, if any.\n",
    "<br><br>\n",
    "I'll start by cleaning the data by 1) removing all rows with any missing values, 2) converting type of 'date' to 'datetime' and 3) formatting price by removing the $ sign, commans and converting type to float. Then I only analyze listings that have fluctuating prices through the year, listings that have the same prices throughout the year, I ignore them. The way to know if a listing has the same prices throughout the year is to take the standard deviation of prices for that listing, if the value is zero, prices for that listing don't change and I drop them from my analysis."
   ]
  },
  {
   "cell_type": "code",
   "execution_count": 776,
   "metadata": {},
   "outputs": [],
   "source": [
    "def clean_calendar_df(df):\n",
    "    \n",
    "    # drop any rows with missing values\n",
    "    df.dropna(inplace=True)\n",
    "\n",
    "    # convert type of 'date' column to datetime\n",
    "    df['date'] = pd.to_datetime(df['date'])\n",
    "\n",
    "    # create new column 'price_val' which is a formatted\n",
    "    # version of column 'price'\n",
    "    format_price(df)"
   ]
  },
  {
   "cell_type": "code",
   "execution_count": 777,
   "metadata": {},
   "outputs": [],
   "source": [
    "calendar_df = pd.read_csv('seattle/calendar.csv')\n",
    "clean_calendar_df(calendar_df)\n",
    "\n",
    "calendar_std_df = calendar_df.groupby(['listing_id']).std().dropna()\n",
    "\n",
    "calendar_variance_df = calendar_std_df[calendar_std_df['price_val'] > 0]\n",
    "listings_with_variance = list(calendar_variance_df.index)"
   ]
  },
  {
   "cell_type": "markdown",
   "metadata": {},
   "source": [
    "Now for each listing I calculate the mean price by the month and I normalize it between 0 - 1. I use this normalized list of prices (12 in total) and add it to a running sum. After I've done this analysis on all listings, I divide the list of mean prices by the total number of analyzed listings, this brings the values back to the 0 - 1 range.\n",
    "\n",
    "Note: I only run this analysis on listings that have data available for the whole year. If a listing doesn't have prices available for even a month, I ignore it."
   ]
  },
  {
   "cell_type": "code",
   "execution_count": 778,
   "metadata": {},
   "outputs": [],
   "source": [
    "# Returns mean prices for each month of a listing.\n",
    "# It returns a list of 12 mean prices, one\n",
    "# value for each month of the year.\n",
    "def get_prices_per_month(df, listing_id):\n",
    "    mean_prices = np.zeros(12)\n",
    "    \n",
    "    for month in range(1, 13):\n",
    "        prices_df = df[df['listing_id'] == listing_id]\n",
    "        prices_df = prices_df[prices_df['date'].dt.month == month]\n",
    "        mean_prices[month - 1] = prices_df['price_val'].mean()\n",
    "\n",
    "    return mean_prices"
   ]
  },
  {
   "cell_type": "code",
   "execution_count": 779,
   "metadata": {},
   "outputs": [],
   "source": [
    "# Normalize prices between 0 - 1.\n",
    "def normalize(prices):\n",
    "    minimum = prices.min()\n",
    "    maximum = prices.max()\n",
    "    \n",
    "    return (prices - minimum) / (maximum - minimum)"
   ]
  },
  {
   "cell_type": "code",
   "execution_count": 780,
   "metadata": {},
   "outputs": [],
   "source": [
    "# Returns true if listing is available year round.\n",
    "def is_listing_avail_all_year(df, listing_id):\n",
    "    months = list(range(1, 13)) # [1, 2, 3, .. 12]\n",
    "    listing_df = df[df['listing_id'] == listing_id]\n",
    "    return set(listing_df['date'].dt.month.unique()) == set(months)"
   ]
  },
  {
   "cell_type": "code",
   "execution_count": 781,
   "metadata": {},
   "outputs": [
    {
     "name": "stdout",
     "output_type": "stream",
     "text": [
      "Done\n"
     ]
    }
   ],
   "source": [
    "prices = np.zeros(12)\n",
    "num_listings_analyzed = 0\n",
    "\n",
    "for listing_id in listings_with_variance:\n",
    "    if not is_listing_avail_all_year(calendar_df, listing_id):\n",
    "        continue\n",
    "\n",
    "    prices_listing = get_prices_per_month(calendar_df, listing_id)\n",
    "    prices_listing_normalized = normalize(prices_listing)\n",
    "    prices = prices + prices_listing_normalized\n",
    "    num_listings_analyzed = num_listings_analyzed + 1\n",
    "\n",
    "prices = prices / num_listings_analyzed\n",
    "print('Done')"
   ]
  },
  {
   "cell_type": "markdown",
   "metadata": {},
   "source": [
    "Finally I draw a plot of Price variations against Months. The outcome I'd say is expected, prices hike during summer vacations and winter holidays. The priciest month is July followed by April, June, August, September, and December. Which indicates that people generally travel the most in the month of July and overall in summer and winter holidays. The month with the least amount of travel is January."
   ]
  },
  {
   "cell_type": "code",
   "execution_count": 782,
   "metadata": {},
   "outputs": [
    {
     "data": {
      "image/png": "[encoded data removed]",
      "text/plain": [
       "<Figure size 640x480 with 1 Axes>"
      ]
     },
     "metadata": {},
     "output_type": "display_data"
    }
   ],
   "source": [
    "months = ('Jan', 'Feb', 'Mar', 'Apr', 'May', 'Jun', 'Jul', 'Aug', 'Sep', 'Oct', 'Nov', 'Dec')\n",
    "months_pos = np.arange(len(months))\n",
    "\n",
    "plt.bar(months_pos, prices, align='center', alpha=0.4)\n",
    "plt.xticks(months_pos, months)\n",
    "plt.ylabel('Price')\n",
    "plt.title('Price trends')\n",
    "\n",
    "plt.show()"
   ]
  },
  {
   "cell_type": "markdown",
   "metadata": {},
   "source": [
    "### Question: What are the 3 most expensive and least expensive neighbourhoods in Seattle for renting?"
   ]
  },
  {
   "cell_type": "markdown",
   "metadata": {},
   "source": [
    "Here I'll run an analysis to find out the 3 most expensive and least expensive neighborhoods in Seattle. For pricing I'm using price per accommodation, as already calculated above.\n",
    "<br><br>\n",
    "First let's take a peek at the neighborhoods."
   ]
  },
  {
   "cell_type": "code",
   "execution_count": 891,
   "metadata": {},
   "outputs": [
    {
     "data": {
      "text/plain": [
       "Capitol Hill                 351\n",
       "Ballard                      213\n",
       "Belltown                     204\n",
       "Minor                        192\n",
       "Queen Anne                   187\n",
       "Fremont                      148\n",
       "Wallingford                  143\n",
       "University District          107\n",
       "First Hill                   105\n",
       "Stevens                       98\n",
       "North Beacon Hill             95\n",
       "Lower Queen Anne              83\n",
       "Central Business District     81\n",
       "Greenwood                     79\n",
       "Columbia City                 61\n",
       "Ravenna                       59\n",
       "Phinney Ridge                 56\n",
       "Magnolia                      55\n",
       "Green Lake                    52\n",
       "Atlantic                      50\n",
       "North Admiral                 48\n",
       "Mount Baker                   46\n",
       "Leschi                        44\n",
       "Eastlake                      41\n",
       "Maple Leaf                    41\n",
       "Madrona                       40\n",
       "Pike Place Market             39\n",
       "The Junction                  36\n",
       "Bryant                        32\n",
       "Seward Park                   32\n",
       "                            ... \n",
       "Olympic Hills                 12\n",
       "Licton Springs                12\n",
       "Yesler Terrace                12\n",
       "Highland Park                 12\n",
       "Westlake                      12\n",
       "High Point                    11\n",
       "North Beach/Blue Ridge        11\n",
       "Windermere                    10\n",
       "Fauntleroy                    10\n",
       "Meadowbrook                    9\n",
       "Seaview                        9\n",
       "Laurelhurst                    9\n",
       "Cedar Park                     8\n",
       "Riverview                      8\n",
       "Georgetown                     7\n",
       "Interbay                       7\n",
       "South Delridge                 7\n",
       "View Ridge                     6\n",
       "Holly Park                     6\n",
       "Broadway                       5\n",
       "Brighton                       5\n",
       "Industrial District            3\n",
       "Arbor Heights                  3\n",
       "Pinehurst                      3\n",
       "South Park                     2\n",
       "Pike Market                    2\n",
       "South Beacon Hill              2\n",
       "Fairmount Park                 1\n",
       "Roxhill                        1\n",
       "North College Park             1\n",
       "Name: neighbourhood, Length: 81, dtype: int64"
      ]
     },
     "execution_count": 891,
     "metadata": {},
     "output_type": "execute_result"
    }
   ],
   "source": [
    "listings_df['neighbourhood'].value_counts()"
   ]
  },
  {
   "cell_type": "markdown",
   "metadata": {},
   "source": [
    "We will ignore neighborhoods, that have less than 10 listings, in order to save the analysis from biases. We are restricted by data here, Airbnb only provides data for 2016. If we had enough data, we wouldn't have dropped any neighborhoods from our analysis."
   ]
  },
  {
   "cell_type": "code",
   "execution_count": 914,
   "metadata": {},
   "outputs": [],
   "source": [
    "# drop listings that don't have neighborhood information\n",
    "neighborhood_df = listings_df.dropna(subset=['neighbourhood'])\n",
    "\n",
    "neighborhood_series = neighborhood_df['neighbourhood'].value_counts()\n",
    "neighborhoods = list(neighborhood_series.where(neighborhood_series >= 10).dropna().index)"
   ]
  },
  {
   "cell_type": "markdown",
   "metadata": {},
   "source": [
    "Variable 'neighborhoods' is a list of all neighborhoods that have at least 10 listings. We'll run the analysis on this these neighborhoods only. We'll create a list of tuples. Each tuple will hold 1) neighborhood name and 2) its mean price per accommodation. After populating the list we can look at the top 3, for least expensive, and bottom 3, for most expensive."
   ]
  },
  {
   "cell_type": "code",
   "execution_count": 920,
   "metadata": {},
   "outputs": [
    {
     "name": "stdout",
     "output_type": "stream",
     "text": [
      "Most expensive neighborhoods [('Lower Queen Anne', 55.61465863453815), ('Westlake', 62.572916666666664), ('Pioneer Square', 66.90833333333333)]\n",
      "Least expensive neighborhoods [('Haller Lake', 26.139880952380956), ('Seward Park', 26.641815476190477), ('Rainier Beach', 28.011243386243386)]\n"
     ]
    }
   ],
   "source": [
    "neighborhood_prices = []\n",
    "\n",
    "for neighborhood in neighborhoods:\n",
    "    mean_price = neighborhood_df[neighborhood_df['neighbourhood'] == neighborhood]['price_per_accommodation'].mean()\n",
    "    neighborhood_prices.append((neighborhood, mean_price))\n",
    "\n",
    "# sort neighborhoods by price per accommodation (low to high)\n",
    "neighborhood_prices.sort(key=lambda tup: tup[1])\n",
    "\n",
    "print('Most expensive neighborhoods', neighborhood_prices[-3:])\n",
    "print('Least expensive neighborhoods', neighborhood_prices[:3])"
   ]
  },
  {
   "cell_type": "markdown",
   "metadata": {},
   "source": [
    "Most expensive neighborhoods (price high to low):\n",
    "- Pioneer Square\n",
    "- Westlake\n",
    "- Lower Queen Anne\n",
    "\n",
    "Least expensive neighborhoods (price low to high):\n",
    "- Haller Lake\n",
    "- Seward Park\n",
    "- Rainier Beach"
   ]
  }
 ],
 "metadata": {
  "kernelspec": {
   "display_name": "Python 3",
   "language": "python",
   "name": "python3"
  },
  "language_info": {
   "codemirror_mode": {
    "name": "ipython",
    "version": 3
   },
   "file_extension": ".py",
   "mimetype": "text/x-python",
   "name": "python",
   "nbconvert_exporter": "python",
   "pygments_lexer": "ipython3",
   "version": "3.7.0"
  }
 },
 "nbformat": 4,
 "nbformat_minor": 2
}
